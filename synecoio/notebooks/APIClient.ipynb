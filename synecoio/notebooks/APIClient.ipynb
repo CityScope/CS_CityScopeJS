{
 "cells": [
  {
   "cell_type": "markdown",
   "metadata": {},
   "source": [
    "# API\n",
    "- Note: https://github.com/CityScope/CS_CityIO/wiki/API\n",
    "- https://github.com/CityScope/cityscope.github.io/wiki/CityIO-Data-Structure-Standard-version-2.1\n",
    "- https://github.com/CityScope/CS_cityscopeJS\n",
    "\n",
    "---\n",
    "- ListTables   = URI(ReqType.GET,  f\"{self.endpoint}/tables/list\")\n",
    "- GetTable     = URI(ReqType.GET,  f\"{self.endpoint}/table/:tableName\")\n",
    "- PostTable    = URI(ReqType.POST, f\"{self.endpoint}/table/update/:tableName/:fieldName\")\n",
    "- DeleteTable  = URI(ReqType.GET,  f\"{self.endpoint}/table/clear/:tableName/:fieldName\")\n",
    "- DeleteModule = URI(ReqType.GET,  f\"{self.endpoint}/table/clear/:tableName/:moduleName\")"
   ]
  },
  {
   "cell_type": "code",
   "execution_count": 1,
   "metadata": {},
   "outputs": [],
   "source": [
    "import sys\n",
    "from pathlib import Path\n",
    "\n",
    "sys.path.append(str(Path.cwd().parent))"
   ]
  },
  {
   "cell_type": "code",
   "execution_count": 2,
   "metadata": {},
   "outputs": [],
   "source": [
    "from SynecoScope import (\n",
    "    APIClient,\n",
    "    Message\n",
    ")"
   ]
  },
  {
   "cell_type": "code",
   "execution_count": 3,
   "metadata": {},
   "outputs": [],
   "source": [
    "API = APIClient()"
   ]
  },
  {
   "cell_type": "code",
   "execution_count": 4,
   "metadata": {},
   "outputs": [],
   "source": [
    "msg_ropp = Message(\n",
    "    name={\"tableName\": \"roppongi\"},\n",
    "    content={}\n",
    ")\n",
    "res = API.GetTable(message = msg_ropp)"
   ]
  },
  {
   "cell_type": "code",
   "execution_count": 5,
   "metadata": {},
   "outputs": [
    {
     "data": {
      "text/plain": [
       "dict_keys(['GEOGRID', 'GEOGRIDDATA', 'access', 'header', 'indicators', 'meta'])"
      ]
     },
     "execution_count": 5,
     "metadata": {},
     "output_type": "execute_result"
    }
   ],
   "source": [
    "temp = res.json()\n",
    "temp.keys()"
   ]
  },
  {
   "cell_type": "code",
   "execution_count": 6,
   "metadata": {},
   "outputs": [],
   "source": [
    "GEOGRID = temp['GEOGRID']"
   ]
  },
  {
   "cell_type": "code",
   "execution_count": 7,
   "metadata": {},
   "outputs": [
    {
     "data": {
      "text/plain": [
       "<Response [200]>"
      ]
     },
     "execution_count": 7,
     "metadata": {},
     "output_type": "execute_result"
    }
   ],
   "source": [
    "msg = Message(\n",
    "    {\n",
    "        \"tableName\": 'roppongi',\n",
    "        \"fieldName\": \"GEOGRID\"\n",
    "    },\n",
    "    GEOGRID\n",
    ")\n",
    "\n",
    "API.PostTable(message = msg)"
   ]
  }
 ],
 "metadata": {
  "kernelspec": {
   "display_name": "Python 3",
   "language": "python",
   "name": "python3"
  },
  "language_info": {
   "codemirror_mode": {
    "name": "ipython",
    "version": 3
   },
   "file_extension": ".py",
   "mimetype": "text/x-python",
   "name": "python",
   "nbconvert_exporter": "python",
   "pygments_lexer": "ipython3",
   "version": "3.8.0"
  }
 },
 "nbformat": 4,
 "nbformat_minor": 4
}
