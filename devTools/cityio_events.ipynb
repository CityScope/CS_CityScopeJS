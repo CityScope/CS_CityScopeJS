{
 "cells": [
  {
   "cell_type": "code",
   "execution_count": 10,
   "id": "74b138f9-5e98-4aa3-b0c0-53f61afe9dea",
   "metadata": {},
   "outputs": [],
   "source": [
    "import requests\n",
    "import json\n",
    "import time\n",
    "import random\n",
    "from IPython.display import clear_output\n",
    "from datetime import datetime"
   ]
  },
  {
   "cell_type": "code",
   "execution_count": 11,
   "id": "db1a94db-054c-4187-8f90-f75c2d0d40b2",
   "metadata": {},
   "outputs": [
    {
     "data": {
      "text/plain": [
       "'http://127.0.0.1:5000/api/table/volpe/'"
      ]
     },
     "execution_count": 11,
     "metadata": {},
     "output_type": "execute_result"
    }
   ],
   "source": [
    "#@title Setup CityIO parameters \n",
    "table_name = \"volpe\" #@param {type:\"string\"}\n",
    "# cityio_url = \"https://cityio.media.mit.edu/api/table/\" #@param [\"http://127.0.0.1:5000/api/table/\", \"https://cityio.media.mit.edu/api/table/\"] {allow-input: true}\n",
    "cityio_url = \"http://127.0.0.1:5000/api/table/\" #@param [\"http://127.0.0.1:5000/api/table/\", \"https://cityio.media.mit.edu/api/table/\"] {allow-input: true}\n",
    "table_name+= '/'\n",
    "url = cityio_url + table_name\n",
    "url"
   ]
  },
  {
   "cell_type": "code",
   "execution_count": 12,
   "id": "cda9911c-1a43-4c48-ace2-f55b23809b75",
   "metadata": {},
   "outputs": [
    {
     "data": {
      "text/plain": [
       "{'ABM2': 'GPUnyh9qBRjYJfjnbcqhpDnwUxkdLWaKzw73xcQRjrUX',\n",
       " 'GEOGRID': '9FoziGzjsJ1BTWBcrs5Kg8r3oWgArZLa6CEVNCEPnwf1',\n",
       " 'GEOGRIDATA': 'BVS8msRpotmCzMnXZD9oomayQsazVu7yNwJrm5tF8sZR',\n",
       " 'GEOGRIDDATA': 'CqZisFLVSEkvNQTNGe5TmYsLhN1ZEjGyDtzRJogr92YC',\n",
       " 'TUI': 'CSgSB8KdsnGeEi7eDrmNTYDQx3cdaJ4gHhq1bcNjPFrP',\n",
       " 'access': 'bbRVwrvz4nLZApDzVBbuR6PtBxTH5kvX6grtiPGqm3h',\n",
       " 'geojson': 'HJoQoM6BVfpv1vNojtz3NV2Mkc2SdDdNoTZtTNXgVHVm',\n",
       " 'indicators': '57RP7Yvkz7enXBkMzRFy7Snb9ozSNSK4jwtc2tJ1iQCr',\n",
       " 'scenarios': '3gKbDfhRasos39n1mtoFXBmL4DU8a8gbWH79knZm7HFo',\n",
       " 'tui': '5BUCh31CDBc4gmhAdTaLFzTsAwqTW545GDePRmtxcdP9'}"
      ]
     },
     "execution_count": 12,
     "metadata": {},
     "output_type": "execute_result"
    }
   ],
   "source": [
    "headers = {'Content-Type': 'application/json'}\n",
    "meta = requests.get(url+'/meta', headers=headers)\n",
    "meta = meta.json()\n",
    "# print the hashes field in the meta data\n",
    "meta['hashes']"
   ]
  },
  {
   "cell_type": "markdown",
   "id": "1bb5adae-e3c3-4ee2-8771-db4f93dae3d9",
   "metadata": {},
   "source": [
    "# Post Request"
   ]
  },
  {
   "cell_type": "code",
   "execution_count": 13,
   "id": "d43c986a",
   "metadata": {},
   "outputs": [
    {
     "ename": "KeyboardInterrupt",
     "evalue": "",
     "output_type": "error",
     "traceback": [
      "\u001b[0;31m---------------------------------------------------------------------------\u001b[0m",
      "\u001b[0;31mKeyboardInterrupt\u001b[0m                         Traceback (most recent call last)",
      "Cell \u001b[0;32mIn [13], line 116\u001b[0m\n\u001b[1;32m    114\u001b[0m \u001b[39mprint\u001b[39m(current_time, r)\n\u001b[1;32m    115\u001b[0m clear_output(wait\u001b[39m=\u001b[39m\u001b[39mbool\u001b[39m(random\u001b[39m.\u001b[39mgetrandbits(\u001b[39m1\u001b[39m)))\n\u001b[0;32m--> 116\u001b[0m time\u001b[39m.\u001b[39;49msleep(\u001b[39m5\u001b[39;49m)\n",
      "\u001b[0;31mKeyboardInterrupt\u001b[0m: "
     ]
    }
   ],
   "source": [
    "from pickle import TRUE\n",
    "\n",
    "\n",
    "while True:\n",
    "    tui_data = {\n",
    "        \"ABM\": {\n",
    "            \"active\":random.choice([0, 1]),\n",
    "            \"display_name\": \"Animated Trips\",\n",
    "            \"toggle\": {\n",
    "                \"active\": True,\n",
    "                \"default\": False,\n",
    "                \"name\": \"activate\"\n",
    "            },\n",
    "            \"toggle_array\": {\n",
    "                \"curr_active\": random.randint(0, 3),\n",
    "                \"name\": \"Animated Trips\",\n",
    "                \"names\": [\n",
    "                    \"Drive\",\n",
    "                    \"Cycle\",\n",
    "                    \"Walk\",\n",
    "                    \"Pt\"\n",
    "                ],\n",
    "                \"num\": 4\n",
    "            },\n",
    "            \"slider\": {\n",
    "                \"default\": 0.5,\n",
    "                \"max\": 1,\n",
    "                \"min\": 0,\n",
    "                \"name\": \"ABM Speed\",\n",
    "                \"value\": 0.1\n",
    "            },\n",
    "        },\n",
    "\n",
    "        \"ACCESS\": {\n",
    "            \"active\":  random.choice([0, 1]),\n",
    "            \"display_name\": \"Heatmap\",\n",
    "            \"toggle\": {\n",
    "                \"active\": True,\n",
    "                \"default\": False,\n",
    "                \"name\": \"activate\"\n",
    "            },\n",
    "            \"toggle_array\": {\n",
    "                \"curr_active\": random.randint(0, 8),\n",
    "                \"name\": \"HeatMap\",\n",
    "                \"names\": [\n",
    "                    \"Restaurants\",\n",
    "                    \"Daycare\",\n",
    "                    \"Book stores\",\n",
    "                    \"Pharmacies\",\n",
    "                    \"Housing\",\n",
    "                    \"Nightlife\",\n",
    "                    \"Doctors Offices\",\n",
    "                    \"Groceries\",\n",
    "                    \"Jobs\"\n",
    "                ],\n",
    "                \"num\": 9\n",
    "            }\n",
    "        },\n",
    "\"GEOJSON\": {\n",
    "            \"active\": random.choice([0, 1]),\n",
    "           \n",
    "        },\n",
    "        \"GRID\": {\n",
    "            \"active\": random.choice([0, 1]),\n",
    "            \"display_name\": \"CS Grid\",\n",
    "            \"slider\": {\n",
    "                \"default\": 50,\n",
    "                \"max\": 255,\n",
    "                \"min\": 0,\n",
    "                \"name\": \"opacity\",\n",
    "                \"value\": 94\n",
    "            },\n",
    "            \"toggle\": {\n",
    "                \"active\": True,\n",
    "                \"default\": True,\n",
    "                \"name\": \"activate\"\n",
    "            }\n",
    "        },\n",
    "        \"MAP_STYLE\": {\n",
    "            \"active\":  random.choice([0, 1]),\n",
    "            \"display_name\": \"Map Style\",\n",
    "            \"toggle\": {\n",
    "                \"active\": True,\n",
    "                \"default\": False,\n",
    "                \"name\": \"activate\"\n",
    "            },\n",
    "            \"toggle_array\": {\n",
    "                \"curr_active\": random.randint(0, 2),\n",
    "                \"name\": \"Style\",\n",
    "                \"names\": [\n",
    "                    \"Dark\",\n",
    "                    \"Light\",\n",
    "                    \"Normal\"\n",
    "                ],\n",
    "                \"num\": 3\n",
    "            }\n",
    "        },\n",
    "\n",
    "        \"TEXT\": {\n",
    "            \"active\": random.choice([0, 1]),\n",
    "            \"display_name\": \"Text\",\n",
    "            \"toggle\": {\n",
    "                \"active\": True,\n",
    "                \"default\": False,\n",
    "                \"name\": \"activate\"\n",
    "            }\n",
    "        }\n",
    "    }\n",
    "\n",
    "    r = requests.post(url+'tui', data=json.dumps(tui_data),\n",
    "                      headers={'Content-Type': 'application/json'})\n",
    "    now = datetime.now()\n",
    "    current_time = now.strftime(\"%H:%M:%S\")\n",
    "    print(current_time, r)\n",
    "    clear_output(wait=bool(random.getrandbits(1)))\n",
    "    time.sleep(5)\n"
   ]
  },
  {
   "cell_type": "code",
   "execution_count": null,
   "id": "69981407",
   "metadata": {},
   "outputs": [],
   "source": []
  }
 ],
 "metadata": {
  "kernelspec": {
   "display_name": "Python 3.8.9 ('cityio')",
   "language": "python",
   "name": "python3"
  },
  "language_info": {
   "codemirror_mode": {
    "name": "ipython",
    "version": 3
   },
   "file_extension": ".py",
   "mimetype": "text/x-python",
   "name": "python",
   "nbconvert_exporter": "python",
   "pygments_lexer": "ipython3",
   "version": "3.9.6"
  },
  "vscode": {
   "interpreter": {
    "hash": "3c658b6c5b677841ad3a7ef569137c490e99ffd165619659d88b6b09a9230b48"
   }
  }
 },
 "nbformat": 4,
 "nbformat_minor": 5
}
