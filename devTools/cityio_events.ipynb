{
 "cells": [
  {
   "cell_type": "code",
   "execution_count": 1,
   "id": "74b138f9-5e98-4aa3-b0c0-53f61afe9dea",
   "metadata": {},
   "outputs": [],
   "source": [
    "import requests\n",
    "import json\n",
    "import time\n",
    "import random\n",
    "from IPython.display import clear_output\n",
    "from datetime import datetime"
   ]
  },
  {
   "cell_type": "code",
   "execution_count": 2,
   "id": "db1a94db-054c-4187-8f90-f75c2d0d40b2",
   "metadata": {},
   "outputs": [],
   "source": [
    "# api = \"http://127.0.0.1:5000/api/table/\"\n",
    "api = 'https://cityio.media.mit.edu/api/table/'\n",
    "table_endpoint = 'volpe_css/'\n",
    "url = api + table_endpoint\n"
   ]
  },
  {
   "cell_type": "code",
   "execution_count": 3,
   "id": "cda9911c-1a43-4c48-ace2-f55b23809b75",
   "metadata": {},
   "outputs": [
    {
     "data": {
      "text/plain": [
       "<Response [200]>"
      ]
     },
     "execution_count": 3,
     "metadata": {},
     "output_type": "execute_result"
    }
   ],
   "source": [
    "headers = {'Content-Type': 'application/json'}\n",
    "meta = requests.get(url+'/meta', headers=headers)\n",
    "meta\n"
   ]
  },
  {
   "cell_type": "code",
   "execution_count": 4,
   "id": "ccb80d5e-4611-4bed-849d-2538312ccc55",
   "metadata": {},
   "outputs": [
    {
     "data": {
      "text/plain": [
       "{'ABM2': '9pbBU7E2hTQ7iDm2UvDUed9KcgBPN1yzGCWnxxoY3vhX',\n",
       " 'GEOGRID': '9eYxGj9bqZi8kGN8roNMhZDACei47DpMAMoB7Ede33Kp',\n",
       " 'GEOGRIDATA': 'BVS8msRpotmCzMnXZD9oomayQsazVu7yNwJrm5tF8sZR',\n",
       " 'GEOGRIDDATA': 'HRHRiZbBL4d23xkyE8HnXM996mSiZdwxVY6CeH29AWAi',\n",
       " 'access': '59cXkrBd16GcV7VjzsGF2ZxC2iHMrnu88eU7A1qsL83o',\n",
       " 'geojson': '9VLuk4mazc55PpSKrfRs8K2D72yngMRGhAH1FZYvQW2T',\n",
       " 'indicators': '8EtRiNBHaYBk8ZJwtaQaggRU6X16635EKnLJG1nhmWm8',\n",
       " 'scenarios': '3gKbDfhRasos39n1mtoFXBmL4DU8a8gbWH79knZm7HFo',\n",
       " 'tui': '228d5RTKWD4iVhUYR8TiNZwos9mAnRgP65QYrJLijDf2'}"
      ]
     },
     "execution_count": 4,
     "metadata": {},
     "output_type": "execute_result"
    }
   ],
   "source": [
    "meta = meta.json()\n",
    "# print the hashes field in the meta data\n",
    "meta['hashes']\n"
   ]
  },
  {
   "cell_type": "markdown",
   "id": "1bb5adae-e3c3-4ee2-8771-db4f93dae3d9",
   "metadata": {},
   "source": [
    "# Post Request"
   ]
  },
  {
   "cell_type": "code",
   "execution_count": 5,
   "id": "c0a8be8c",
   "metadata": {},
   "outputs": [],
   "source": [
    "styles = [\"sat\", \"blue\", \"inverse\"]"
   ]
  },
  {
   "cell_type": "code",
   "execution_count": 10,
   "id": "d43c986a",
   "metadata": {},
   "outputs": [
    {
     "ename": "KeyboardInterrupt",
     "evalue": "",
     "output_type": "error",
     "traceback": [
      "\u001b[0;31m---------------------------------------------------------------------------\u001b[0m",
      "\u001b[0;31mKeyboardInterrupt\u001b[0m                         Traceback (most recent call last)",
      "Cell \u001b[0;32mIn [10], line 66\u001b[0m\n\u001b[1;32m     64\u001b[0m \u001b[39mprint\u001b[39m(current_time, r)\n\u001b[1;32m     65\u001b[0m clear_output(wait\u001b[39m=\u001b[39m\u001b[39mTrue\u001b[39;00m)\n\u001b[0;32m---> 66\u001b[0m time\u001b[39m.\u001b[39;49msleep(\u001b[39m2\u001b[39;49m)\n",
      "\u001b[0;31mKeyboardInterrupt\u001b[0m: "
     ]
    }
   ],
   "source": [
    "while True:\n",
    "\n",
    "    tui_data = {\n",
    "        # \"MAP_STYLE\":{\n",
    "        #     \"active\": bool(random.getrandbits(1)), \n",
    "        #     \"style\":styles[random.randint(0, len(styles)-1)]\n",
    "        # },\n",
    "        \"GRID\": {\n",
    "            \"displayName\": \"CS Grid\",\n",
    "            \"active\": True,\n",
    "            # bool(random.getrandbits(1)),\n",
    "        },\n",
    "        \"ABM\": {\n",
    "            \"displayName\": \"Animated Trips\",\n",
    "            \"active\": True,\n",
    "        },\n",
    "        \"AGGREGATED_TRIPS\": {\n",
    "            \"displayName\": \"Aggregated Trips\",\n",
    "            \"active\": bool(random.getrandbits(1)),\n",
    "        },\n",
    "        \"ACCESS\": {\n",
    "            \"displayName\": \"Heatmap\",\n",
    "            \"active\": True,\n",
    "            \"displayName\": \"Heatmap\",\n",
    "            \"toggleArray\": {\n",
    "                \"num\": 5,\n",
    "                \"curr_active\": random.randint(0, 5),\n",
    "                \"toggles\": [\n",
    "                    {\n",
    "                        \"name\": \"proximity\",\n",
    "                    },\n",
    "                    {\n",
    "                        \"name\": \"walkability\"\n",
    "                    },\n",
    "                    {\n",
    "                        \"name\": \"home office\"\n",
    "                    },\n",
    "                    {\n",
    "                        \"name\": \"Innovation Potential\"\n",
    "                    },\n",
    "                    {\n",
    "                        \"name\": \"Office Home\"\n",
    "                    }\n",
    "                ]\n",
    "            }},\n",
    "        \"TEXT\": {\n",
    "            \"displayName\": \"Text\",\n",
    "            \"active\": bool(random.getrandbits(1)),\n",
    "        },\n",
    "        \"GEOJSON\": {\n",
    "            \"displayName\": \"GeoJson\",\n",
    "            \"active\": bool(random.getrandbits(1)),\n",
    "        },\n",
    "        \"MESH\": {\n",
    "            \"displayName\": \"Mesh <beta>\",\n",
    "            \"active\": bool(random.getrandbits(1)),\n",
    "        },\n",
    "    }\n",
    "\n",
    "    r = requests.post(url+'tui', data=json.dumps(tui_data),\n",
    "                      headers={'Content-Type': 'application/json'})\n",
    "    now = datetime.now()\n",
    "    current_time = now.strftime(\"%H:%M:%S\")\n",
    "    print(current_time, r)\n",
    "    clear_output(wait=True)\n",
    "    time.sleep(2)\n"
   ]
  },
  {
   "cell_type": "code",
   "execution_count": null,
   "id": "7f2d625f",
   "metadata": {},
   "outputs": [],
   "source": []
  }
 ],
 "metadata": {
  "kernelspec": {
   "display_name": "Python 3.8.9 ('cityio')",
   "language": "python",
   "name": "python3"
  },
  "language_info": {
   "codemirror_mode": {
    "name": "ipython",
    "version": 3
   },
   "file_extension": ".py",
   "mimetype": "text/x-python",
   "name": "python",
   "nbconvert_exporter": "python",
   "pygments_lexer": "ipython3",
   "version": "3.9.6"
  },
  "vscode": {
   "interpreter": {
    "hash": "3c658b6c5b677841ad3a7ef569137c490e99ffd165619659d88b6b09a9230b48"
   }
  }
 },
 "nbformat": 4,
 "nbformat_minor": 5
}
