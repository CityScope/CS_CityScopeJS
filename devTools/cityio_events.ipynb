{
 "cells": [
  {
   "cell_type": "code",
   "execution_count": 47,
   "id": "74b138f9-5e98-4aa3-b0c0-53f61afe9dea",
   "metadata": {},
   "outputs": [],
   "source": [
    "import requests\n",
    "import json\n",
    "import time\n",
    "import random"
   ]
  },
  {
   "cell_type": "code",
   "execution_count": 5,
   "id": "db1a94db-054c-4187-8f90-f75c2d0d40b2",
   "metadata": {},
   "outputs": [],
   "source": [
    "url='https://cityio.media.mit.edu/api/table/test/'"
   ]
  },
  {
   "cell_type": "code",
   "execution_count": 33,
   "id": "cda9911c-1a43-4c48-ace2-f55b23809b75",
   "metadata": {},
   "outputs": [
    {
     "data": {
      "text/plain": [
       "<Response [200]>"
      ]
     },
     "execution_count": 33,
     "metadata": {},
     "output_type": "execute_result"
    }
   ],
   "source": [
    "headers = {'Content-Type': 'application/json'}\n",
    "meta = requests.get(url+'/meta', headers=headers)\n",
    "meta"
   ]
  },
  {
   "cell_type": "code",
   "execution_count": 34,
   "id": "ccb80d5e-4611-4bed-849d-2538312ccc55",
   "metadata": {},
   "outputs": [
    {
     "data": {
      "text/plain": [
       "{'GEOGRID': 'C9stNbcDYXuCb3VyUpUXunV1fzkZU9iKjcP2xKzVr9sg',\n",
       " 'GEOGRIDDATA': 'EHF2P7msgG6ULHwTq8VuEgfASPVVN1tkN5XZA8xn5Lmz',\n",
       " 'grid': 'J1XtoDM5DGKZt97qBy3krz3ihhdtD9mJaxNMf62BAJhU',\n",
       " 'scenarios': 'AWTnEiuAaiMvutFcefzYFEJd5CZGEJuy3ShBvKZcnPww'}"
      ]
     },
     "execution_count": 34,
     "metadata": {},
     "output_type": "execute_result"
    }
   ],
   "source": [
    "meta = meta.json()\n",
    "# print the hashes field in the meta data \n",
    "meta['hashes']"
   ]
  },
  {
   "cell_type": "markdown",
   "id": "1bb5adae-e3c3-4ee2-8771-db4f93dae3d9",
   "metadata": {},
   "source": [
    "# Post Request"
   ]
  },
  {
   "cell_type": "code",
   "execution_count": 44,
   "id": "18a2e0b0-38bb-413f-b311-f90ea96d3cd9",
   "metadata": {},
   "outputs": [
    {
     "data": {
      "text/plain": [
       "<Response [200]>"
      ]
     },
     "execution_count": 44,
     "metadata": {},
     "output_type": "execute_result"
    }
   ],
   "source": [
    "test_data={'yes': 'no'}\n",
    "headers = {'Content-Type': 'application/json'}\n",
    "r = requests.post(url+'/tui', data=json.dumps(test_data) , headers=headers)\n",
    "r"
   ]
  },
  {
   "cell_type": "code",
   "execution_count": 45,
   "id": "ab2830e8-57f8-41b8-937f-57c570b669ed",
   "metadata": {},
   "outputs": [
    {
     "data": {
      "text/plain": [
       "{'hash': 'AhE5myStn82NJHa2r9asNBxjhZpmSCnSrnybZS6jj4SV',\n",
       " 'hashes': {'GEOGRID': 'C9stNbcDYXuCb3VyUpUXunV1fzkZU9iKjcP2xKzVr9sg',\n",
       "  'GEOGRIDDATA': 'EHF2P7msgG6ULHwTq8VuEgfASPVVN1tkN5XZA8xn5Lmz',\n",
       "  'grid': 'J1XtoDM5DGKZt97qBy3krz3ihhdtD9mJaxNMf62BAJhU',\n",
       "  'scenarios': 'AWTnEiuAaiMvutFcefzYFEJd5CZGEJuy3ShBvKZcnPww',\n",
       "  'tui': '8YYEMoqchCL3aVKqJbEGJYx46iaD7yLL5VqmnYeAU4V2'},\n",
       " 'id': '6DJ1fcS8832NzTF2H2y6YRrAyLztCpBKxzDyND3N5V1i',\n",
       " 'timestamp': '2022-08-08T08:16:47.045305482+00:00'}"
      ]
     },
     "execution_count": 45,
     "metadata": {},
     "output_type": "execute_result"
    }
   ],
   "source": [
    "meta = requests.get(url+'/meta', headers=headers).json()\n",
    "meta"
   ]
  },
  {
   "cell_type": "code",
   "execution_count": 51,
   "id": "d43c986a",
   "metadata": {},
   "outputs": [
    {
     "name": "stdout",
     "output_type": "stream",
     "text": [
      "value False\n",
      "{'commit': '9XQiFeLHeGkLT2cPfRTYMGz2X1bfzP678Kbbkxddk82W', 'status': 'ok'}\n",
      "value True\n",
      "{'commit': 'C8wDLZXE62ByAz6tF4TF13TsvzabWVn3W8BUEtfZYxtD', 'status': 'ok'}\n",
      "value False\n",
      "{'commit': 'ByWQFT6d19bAq9B8B5GonXidnNG46a7PpdczUWDQsFMf', 'status': 'ok'}\n",
      "value False\n",
      "{'mes': 'no change on table', 'status': 'ok'}\n",
      "value True\n",
      "{'commit': 'CWdmZa8H7Luwu5Q5GPGEwJRfJuEQ2UzTq3nJQkPVpKp2', 'status': 'ok'}\n",
      "value True\n",
      "{'mes': 'no change on table', 'status': 'ok'}\n",
      "value False\n",
      "{'commit': 'E919YUmAG7wYCUDJ7X1zZYeaLv5os4x9ksLehJakL6mv', 'status': 'ok'}\n",
      "value False\n",
      "{'mes': 'no change on table', 'status': 'ok'}\n",
      "value True\n",
      "{'commit': 'BxjPtG34jsHaedK7yySXU4HNwJrwXxpkyWDyJN7QFx3g', 'status': 'ok'}\n",
      "value True\n",
      "{'mes': 'no change on table', 'status': 'ok'}\n"
     ]
    }
   ],
   "source": [
    "for i in range(10):\n",
    "    rnd = bool(random.getrandbits(1))\n",
    "    print('value', rnd) \n",
    "    test_data={'key': rnd}\n",
    "    r = requests.post(url+'/tui', data=json.dumps(test_data) , headers=headers)\n",
    "    print(r.json())\n",
    "    time.sleep(0.25)\n"
   ]
  },
  {
   "cell_type": "code",
   "execution_count": null,
   "id": "ade16aac",
   "metadata": {},
   "outputs": [],
   "source": []
  },
  {
   "cell_type": "code",
   "execution_count": null,
   "id": "c936bcb2",
   "metadata": {},
   "outputs": [],
   "source": []
  }
 ],
 "metadata": {
  "kernelspec": {
   "display_name": "Python 3.8.9 ('cityio')",
   "language": "python",
   "name": "python3"
  },
  "language_info": {
   "codemirror_mode": {
    "name": "ipython",
    "version": 3
   },
   "file_extension": ".py",
   "mimetype": "text/x-python",
   "name": "python",
   "nbconvert_exporter": "python",
   "pygments_lexer": "ipython3",
   "version": "3.8.9"
  },
  "vscode": {
   "interpreter": {
    "hash": "3c658b6c5b677841ad3a7ef569137c490e99ffd165619659d88b6b09a9230b48"
   }
  }
 },
 "nbformat": 4,
 "nbformat_minor": 5
}
