{
 "cells": [
  {
   "cell_type": "code",
   "execution_count": null,
   "id": "74b138f9-5e98-4aa3-b0c0-53f61afe9dea",
   "metadata": {},
   "outputs": [],
   "source": [
    "import requests\n",
    "import json\n",
    "import time\n",
    "import random"
   ]
  },
  {
   "cell_type": "code",
   "execution_count": null,
   "id": "db1a94db-054c-4187-8f90-f75c2d0d40b2",
   "metadata": {},
   "outputs": [],
   "source": [
    "api='https://cityio.media.mit.edu/api/table/'\n",
    "table_endpoint= 'test/'\n",
    "url = api + table_endpoint "
   ]
  },
  {
   "cell_type": "code",
   "execution_count": null,
   "id": "cda9911c-1a43-4c48-ace2-f55b23809b75",
   "metadata": {},
   "outputs": [],
   "source": [
    "headers = {'Content-Type': 'application/json'}\n",
    "meta = requests.get(url+'/meta', headers=headers)\n",
    "meta"
   ]
  },
  {
   "cell_type": "code",
   "execution_count": null,
   "id": "ccb80d5e-4611-4bed-849d-2538312ccc55",
   "metadata": {},
   "outputs": [],
   "source": [
    "meta = meta.json()\n",
    "# print the hashes field in the meta data \n",
    "meta['hashes']"
   ]
  },
  {
   "cell_type": "markdown",
   "id": "1bb5adae-e3c3-4ee2-8771-db4f93dae3d9",
   "metadata": {},
   "source": [
    "# Post Request"
   ]
  },
  {
   "cell_type": "code",
   "execution_count": null,
   "id": "d43c986a",
   "metadata": {},
   "outputs": [],
   "source": [
    "while True:\n",
    "    rnd = bool(random.getrandbits(1))\n",
    "    print('value', rnd ) \n",
    "    test_data={'GRID_LAYER_CHECKBOX': rnd, 'ABM_LAYER_CHECKBOX': rnd}\n",
    "    r = requests.post(url+'tui', data=json.dumps(test_data) , headers=headers)\n",
    "    print(r, r.json(), test_data)\n",
    "    time.sleep(0.25)\n"
   ]
  }
 ],
 "metadata": {
  "kernelspec": {
   "display_name": "Python 3.8.9 ('cityio')",
   "language": "python",
   "name": "python3"
  },
  "language_info": {
   "codemirror_mode": {
    "name": "ipython",
    "version": 3
   },
   "file_extension": ".py",
   "mimetype": "text/x-python",
   "name": "python",
   "nbconvert_exporter": "python",
   "pygments_lexer": "ipython3",
   "version": "3.8.9"
  },
  "vscode": {
   "interpreter": {
    "hash": "3c658b6c5b677841ad3a7ef569137c490e99ffd165619659d88b6b09a9230b48"
   }
  }
 },
 "nbformat": 4,
 "nbformat_minor": 5
}
